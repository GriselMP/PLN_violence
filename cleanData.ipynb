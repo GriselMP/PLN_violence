{
  "nbformat": 4,
  "nbformat_minor": 0,
  "metadata": {
    "colab": {
      "provenance": [],
      "authorship_tag": "ABX9TyNzwMF2ZuwmfRu7GTrpJFYg",
      "include_colab_link": true
    },
    "kernelspec": {
      "name": "python3",
      "display_name": "Python 3"
    },
    "language_info": {
      "name": "python"
    }
  },
  "cells": [
    {
      "cell_type": "markdown",
      "metadata": {
        "id": "view-in-github",
        "colab_type": "text"
      },
      "source": [
        "<a href=\"https://colab.research.google.com/github/GriselMP/PLN_violence/blob/main/cleanData.ipynb\" target=\"_parent\"><img src=\"https://colab.research.google.com/assets/colab-badge.svg\" alt=\"Open In Colab\"/></a>"
      ]
    },
    {
      "cell_type": "code",
      "execution_count": null,
      "metadata": {
        "id": "uWqCZfOP2clu"
      },
      "outputs": [],
      "source": [
        "#connect to the drive\n",
        "from google.colab import drive\n",
        "drive.mount('/content/drive')"
      ]
    },
    {
      "cell_type": "code",
      "source": [
        "#functions to remove irrelevant information of data\n",
        "import re\n",
        "\n",
        "def  eliminarSimbolos(s):\n",
        "\tnewString=s.replace('\\n',' ')\n",
        "\tsimbolos=((\"á\",\"a\"),(\"é\",\"e\"),\n",
        "\t\t(\"í\",\"i\"),(\"ó\",\"o\"),(\"ú\",\"u\"),\n",
        "\t\t(\"ñ\",\"n\"),(',',' '),('.',' '),(\"ü\",\"u\"),\n",
        "\t\t('\"',' '),('!',' '),('<',''),('¡',' '),\n",
        "\t\t('¿',' '),('?',' '),('─',' '),('&',' '),\n",
        "\t\t('(',' '),(')',' '),(';',' '),(':',' '),\n",
        "\t\t('|',' '),(\"'\",\" \"),('>',''),('-',' '),('[',''),\n",
        "    (']',''),('/',''),('\\','),('*',''),('+',''),\n",
        "    ('.',''),('…',''),('$',''),('’',''),('“',''))\n",
        "\tfor x,y in simbolos:\n",
        "\t\tnewString=newString.replace(x,y)\n",
        "\n",
        "\treturn newString\n",
        "\n",
        "def eliminarExpresiones(s):\n",
        "\texpresiones=((\":^\",\"\"),('<',''),\n",
        "\t\t(\"jaa\",\" \"),(\"jajaja\",\" \"),(\"xd\",\" \"),\n",
        "\t\t(\"xddd\",\" \"),(\">:v\",\"\"),(\":v\",\"\"),(\".l.\",\"\"),\n",
        "\t\t(\"ufff\",\" \"),(\" ja \",\" \"),(\"jaj\",\" \"),(\"@\",\" \"),\n",
        "    (\"jj\",\"\"),(\"hh\",\"\"),(\"asdfg\",\"\"))\n",
        "\tfor x,y in expresiones:\n",
        "\t\ts=s.replace(x,y)\n",
        "\treturn s\n",
        "\n",
        "def eliminarNumeros(s):\n",
        "\tnewString=\"\"\n",
        "\tnum=['0','1','2','3','4','5','6','7','8','9']\n",
        "\tfor pos in range(len(s)):\n",
        "\t\tif s[pos] not in num:\n",
        "\t\t\tnewString+=s[pos]\n",
        "\treturn newString\n",
        "\n",
        "def stop_words(list1,list2):\n",
        "\tnewList=[]\n",
        "\tfor elem in list1:\n",
        "\t\tif elem not in list2:\n",
        "\t\t\tnewList.append(elem)\n",
        "\treturn newList\n",
        "\n",
        "def minusculas(s):\n",
        "\ts=s.lower()\n",
        "\treturn s\n",
        "def eliminarRT(s):\n",
        "\tretuit=((\"RT\",\"\"),(\"rt\",\"\"))\n",
        "\tfor x,y in retuit:\n",
        "\t\ts=s.replace(x,y)\n",
        "\treturn s\n",
        "\n",
        "def hashtag_url(s):\n",
        "\tnew = re.sub(r\"http\\S+\",\" \",s)\n",
        "\tsimbolos=['@','#']\n",
        "\tfor w in simbolos:\n",
        "\t\tif w not in simbolos:\n",
        "\t\t\tnew=new.replace(w,'')\n",
        "\tlista=[]\n",
        "\tfor w in new.split():\n",
        "\t\tw=w.strip()\n",
        "\t\tif w[0] not in simbolos:\n",
        "\t\t\tlista.append(w)\n",
        "\treturn ' '.join(lista)\n",
        "\t\n",
        "def estandarizarPalabras(s):\n",
        "\tgrupo1=\"\"\n",
        "\tgrupo2=\"\"\n",
        "\tfor i in range(len(s)-1):\n",
        "\t\tif s[i]==s[i+1]:\n",
        "\t\t\tgrupo1+=(s[i])\n",
        "\t\telse:\n",
        "\t\t\tgrupo2+=(s[i])\n",
        "\treturn grupo2\n",
        "\n",
        "def correctorOrtografico(s):\n",
        "\texpresiones=((\"aceso\",\"acceso\"),(\"barer\",\"barrer\"),\n",
        "\t\t\t\t (\"arabalera\",\"arrabalera\"),(\"coriente\",\"corriente\"),\n",
        "\t\t\t\t (\"pera\",\"perra\"),(\"pra\",\"perra\"),(\" q \",\" que \"),\n",
        "\t\t\t\t (\"buro\",\"burro\"),(\"zora\",\"zorra\"),(\"twiter\",\"twitter\"),\n",
        "\t\t\t\t (\"5ta\",\"quinta\"),(\"vie a\",\"vieja\"),(\"tifikos\",\"cientificos\"),\n",
        "\t\t\t\t (\"pishis\",\"pinches\"),(\" k \",\"que\"),(\"vdd\",\"verdad\"),\n",
        "\t\t\t\t (\"veda\",\"verdad\"),(\"ms\",\"mames\"))\n",
        "\tfor x,y in expresiones:\n",
        "\t\ts=s.replace(x,y)\n",
        "\treturn s"
      ],
      "metadata": {
        "id": "F5Lr_2oK2ocx"
      },
      "execution_count": null,
      "outputs": []
    },
    {
      "cell_type": "code",
      "source": [
        "#obtain the stopwords will be removed from data text\n",
        "f = open(path, \"r\")\n",
        "cadena2=\"\"\n",
        "while(True):\n",
        "    tuit = f.readline()\n",
        "    cadena2+=\" \"+tuit\n",
        "    if not tuit:\n",
        "        break\n",
        "f.close()\n",
        "\n",
        "muestra=minusculas(cadena2)\n",
        "muestra=eliminarSimbolos(muestra)\n",
        "stopwords=muestra.split()"
      ],
      "metadata": {
        "id": "ra2qs6332oga"
      },
      "execution_count": null,
      "outputs": []
    },
    {
      "cell_type": "code",
      "source": [
        "#apply the filters of cleaning\n",
        "f = open(path, \"r\")\n",
        "tuits=f.readlines()\n",
        "f.close()\n",
        "fi = open(path, \"w\")\n",
        "for tuit in tuits:\n",
        "    #print(tuit)\n",
        "    tuit=minusculas(tuit)\n",
        "    tuit=hashtag_url(tuit)\n",
        "    tuit=eliminarNumeros(tuit)\n",
        "    tuit=eliminarSimbolos(tuit)\n",
        "    tuit=eliminarExpresiones(tuit)\n",
        "    frase=tuit.split()\n",
        "\n",
        "    new=stop_words(frase,stopwords)\n",
        "    fila=\" \".join(new)\n",
        "    #print(fila)\n",
        "\n",
        "    fi.write(fila+\"\\n\")\n"
      ],
      "metadata": {
        "id": "Opy_XscB3HqN"
      },
      "execution_count": null,
      "outputs": []
    },
    {
      "cell_type": "code",
      "source": [
        "#check empty lines in dataset and remove them\n",
        "f = open(path, \"r\")\n",
        "tuits=f.readlines()\n",
        "f.close()\n",
        "\n",
        "f = open(path, \"w\")\n",
        "for tuit in tuits:\n",
        "    if tuit != \"\"+\"\\n\":\n",
        "        f.write(tuit)\n",
        "\n",
        "f.close()"
      ],
      "metadata": {
        "id": "Y7EGaiTT3Pcu"
      },
      "execution_count": null,
      "outputs": []
    }
  ]
}